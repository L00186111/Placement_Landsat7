{
 "cells": [
  {
   "cell_type": "code",
   "execution_count": null,
   "metadata": {},
   "outputs": [],
   "source": [
    "import numpy as np
",
    "import matplotlib.pyplot as plt
",
    "
",
    "# Load processed masked band
",
    "masked_band = np.load("../data/processed/cloud_masked_band.npy")
",
    "
",
    "plt.figure(figsize=(8, 6))
",
    "plt.imshow(masked_band, cmap='viridis')
",
    "plt.colorbar(label='Reflectance (masked)')
",
    "plt.title("Cloud-masked Band (AOI)")
",
    "plt.show()"
   ]
  }
 ],
 "metadata": {
  "kernelspec": {
   "display_name": "Python 3",
   "language": "python",
   "name": "python3"
  },
  "language_info": {
   "name": "python",
   "version": ""
  }
 },
 "nbformat": 4,
 "nbformat_minor": 2
}
